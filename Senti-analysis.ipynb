{
 "cells": [
  {
   "cell_type": "code",
   "execution_count": 1,
   "id": "409bd1ea-5f08-45dc-9dcb-3dbb06c7fe23",
   "metadata": {},
   "outputs": [],
   "source": [
    "import pandas as pd\n",
    "import seaborn as sns\n",
    "import matplotlib.pyplot as plt\n",
    "from sklearn.feature_extraction.text import TfidfVectorizer\n",
    "from sklearn.preprocessing import LabelEncoder\n",
    "from imblearn.over_sampling import SMOTE\n",
    "from sklearn.model_selection import train_test_split\n",
    "from sklearn.ensemble import RandomForestClassifier\n",
    "from sklearn.linear_model import LogisticRegression\n",
    "from sklearn.metrics import classification_report\n",
    "import xgboost as xgb"
   ]
  },
  {
   "cell_type": "code",
   "execution_count": 25,
   "id": "c30afa2a-8faf-4153-a99a-6bb2b04ec683",
   "metadata": {},
   "outputs": [],
   "source": [
    "df = pd.read_csv('C:/Users/adars/Desktop/End-to-end projects/Sentiment-analysis/data/youtube_comments.csv')"
   ]
  },
  {
   "cell_type": "code",
   "execution_count": 27,
   "id": "23fa5c0a-8ebf-4021-8d8f-995634069934",
   "metadata": {},
   "outputs": [
    {
     "data": {
      "text/html": [
       "<div>\n",
       "<style scoped>\n",
       "    .dataframe tbody tr th:only-of-type {\n",
       "        vertical-align: middle;\n",
       "    }\n",
       "\n",
       "    .dataframe tbody tr th {\n",
       "        vertical-align: top;\n",
       "    }\n",
       "\n",
       "    .dataframe thead th {\n",
       "        text-align: right;\n",
       "    }\n",
       "</style>\n",
       "<table border=\"1\" class=\"dataframe\">\n",
       "  <thead>\n",
       "    <tr style=\"text-align: right;\">\n",
       "      <th></th>\n",
       "      <th>Comment</th>\n",
       "      <th>Sentiment</th>\n",
       "    </tr>\n",
       "  </thead>\n",
       "  <tbody>\n",
       "    <tr>\n",
       "      <th>0</th>\n",
       "      <td>lets not forget that apple pay in 2014 require...</td>\n",
       "      <td>neutral</td>\n",
       "    </tr>\n",
       "    <tr>\n",
       "      <th>1</th>\n",
       "      <td>here in nz 50 of retailers don’t even have con...</td>\n",
       "      <td>negative</td>\n",
       "    </tr>\n",
       "    <tr>\n",
       "      <th>2</th>\n",
       "      <td>i will forever acknowledge this channel with t...</td>\n",
       "      <td>positive</td>\n",
       "    </tr>\n",
       "    <tr>\n",
       "      <th>3</th>\n",
       "      <td>whenever i go to a place that doesn’t take app...</td>\n",
       "      <td>negative</td>\n",
       "    </tr>\n",
       "    <tr>\n",
       "      <th>4</th>\n",
       "      <td>apple pay is so convenient secure and easy to ...</td>\n",
       "      <td>positive</td>\n",
       "    </tr>\n",
       "  </tbody>\n",
       "</table>\n",
       "</div>"
      ],
      "text/plain": [
       "                                             Comment Sentiment\n",
       "0  lets not forget that apple pay in 2014 require...   neutral\n",
       "1  here in nz 50 of retailers don’t even have con...  negative\n",
       "2  i will forever acknowledge this channel with t...  positive\n",
       "3  whenever i go to a place that doesn’t take app...  negative\n",
       "4  apple pay is so convenient secure and easy to ...  positive"
      ]
     },
     "execution_count": 27,
     "metadata": {},
     "output_type": "execute_result"
    }
   ],
   "source": [
    "df.head()"
   ]
  },
  {
   "cell_type": "code",
   "execution_count": 29,
   "id": "28b20b1c-feed-4f32-b159-3229ed4bf0ae",
   "metadata": {},
   "outputs": [
    {
     "data": {
      "image/png": "[encoded data removed]",
      "text/plain": [
       "<Figure size 640x480 with 1 Axes>"
      ]
     },
     "metadata": {},
     "output_type": "display_data"
    },
    {
     "name": "stdout",
     "output_type": "stream",
     "text": [
      "Sentiment\n",
      "positive    0.621034\n",
      "neutral     0.251956\n",
      "negative    0.127010\n",
      "Name: proportion, dtype: float64\n"
     ]
    }
   ],
   "source": [
    "sns.countplot(x=\"Sentiment\", data=df)\n",
    "plt.title(\"Distribution of Sentiments\")\n",
    "plt.show()\n",
    "\n",
    "print(df[\"Sentiment\"].value_counts(normalize=True))"
   ]
  },
  {
   "cell_type": "code",
   "execution_count": 30,
   "id": "65dd6360-2b16-4276-bbc6-1856c3f27118",
   "metadata": {},
   "outputs": [
    {
     "data": {
      "text/plain": [
       "Comment      44\n",
       "Sentiment     0\n",
       "dtype: int64"
      ]
     },
     "execution_count": 30,
     "metadata": {},
     "output_type": "execute_result"
    }
   ],
   "source": [
    "df.isnull().sum()"
   ]
  },
  {
   "cell_type": "code",
   "execution_count": 31,
   "id": "6816c2a9-8522-474e-894b-f53b50951b97",
   "metadata": {},
   "outputs": [],
   "source": [
    "df.dropna(inplace=True)"
   ]
  },
  {
   "cell_type": "code",
   "execution_count": 32,
   "id": "cf8a7bea-fc16-4c1b-9fcf-92a03d2daa62",
   "metadata": {},
   "outputs": [],
   "source": [
    "le = LabelEncoder()\n",
    "df[\"encoded_sentiment\"] = le.fit_transform(df[\"Sentiment\"])\n",
    "\n",
    "# Split\n",
    "X_train, X_test, y_train, y_test = train_test_split(\n",
    "    df[\"Comment\"], df[\"encoded_sentiment\"], test_size=0.2, random_state=42\n",
    ")"
   ]
  },
  {
   "cell_type": "code",
   "execution_count": 38,
   "id": "cccb1153-c152-4a96-aa5a-e58e731ba116",
   "metadata": {},
   "outputs": [
    {
     "data": {
      "application/vnd.jupyter.widget-view+json": {
       "model_id": "b2ba5dad8e0e4090985a4d7ea5fd340f",
       "version_major": 2,
       "version_minor": 0
      },
      "text/plain": [
       "Batches:   0%|          | 0/460 [00:00<?, ?it/s]"
      ]
     },
     "metadata": {},
     "output_type": "display_data"
    },
    {
     "data": {
      "application/vnd.jupyter.widget-view+json": {
       "model_id": "b6b5df9869c34e7a9c7db6fb7077b335",
       "version_major": 2,
       "version_minor": 0
      },
      "text/plain": [
       "Batches:   0%|          | 0/115 [00:00<?, ?it/s]"
      ]
     },
     "metadata": {},
     "output_type": "display_data"
    }
   ],
   "source": [
    "from sentence_transformers import SentenceTransformer\n",
    "\n",
    "embedder = SentenceTransformer(\"all-MiniLM-L6-v2\")\n",
    "X_train_vec2 = embedder.encode(X_train.tolist(), show_progress_bar=True)\n",
    "X_test_vec2 = embedder.encode(X_test.tolist(), show_progress_bar=True)"
   ]
  },
  {
   "cell_type": "code",
   "execution_count": 39,
   "id": "4d2ce3f8-3e7c-43f3-8c86-29fb39f48dd4",
   "metadata": {},
   "outputs": [],
   "source": [
    "smote = SMOTE(random_state=42)\n",
    "X_train_resampled, y_train_resampled = smote.fit_resample(X_train_vec2, y_train)"
   ]
  },
  {
   "cell_type": "code",
   "execution_count": 40,
   "id": "0b303006-53d7-41b8-9c7b-43e1d18881e6",
   "metadata": {
    "scrolled": true
   },
   "outputs": [
    {
     "name": "stdout",
     "output_type": "stream",
     "text": [
      "Before SMOTE: {2: 9082, 1: 3713, 0: 1896}\n",
      "After SMOTE: {2: 9082, 0: 9082, 1: 9082}\n"
     ]
    }
   ],
   "source": [
    "print(\"Before SMOTE:\", dict(pd.Series(y_train).value_counts()))\n",
    "print(\"After SMOTE:\", dict(pd.Series(y_train_resampled).value_counts()))"
   ]
  },
  {
   "cell_type": "code",
   "execution_count": 64,
   "id": "5202b786-5d79-47d1-9cc0-b303e3d89ebe",
   "metadata": {},
   "outputs": [
    {
     "name": "stderr",
     "output_type": "stream",
     "text": [
      "2025/06/20 23:44:02 INFO mlflow.tracking.fluent: Experiment with name 'Sentiment-Analysis-Experiment' does not exist. Creating a new experiment.\n"
     ]
    },
    {
     "data": {
      "text/plain": [
       "<Experiment: artifact_location='file:///C:/Users/adars/Desktop/End-to-end%20projects/mlruns/624552233410175679', creation_time=1750443242842, experiment_id='624552233410175679', last_update_time=1750443242842, lifecycle_stage='active', name='Sentiment-Analysis-Experiment', tags={}>"
      ]
     },
     "execution_count": 64,
     "metadata": {},
     "output_type": "execute_result"
    }
   ],
   "source": [
    "import mlflow\n",
    "import mlflow.sklearn\n",
    "\n",
    "mlflow.set_experiment(\"Sentiment-Analysis-Experiment\")"
   ]
  },
  {
   "cell_type": "code",
   "execution_count": 70,
   "id": "93130503-c5e9-4ff1-8292-6c92da02f77c",
   "metadata": {},
   "outputs": [],
   "source": [
    "def train_and_log_model(model_name, vectorizer_name, model, X_train, y_train, X_test, y_test):\n",
    "    run_name = f\"{model_name}_{vectorizer_name}\"\n",
    "    with mlflow.start_run(run_name=run_name):\n",
    "        model.fit(X_train, y_train)\n",
    "        preds = model.predict(X_test)\n",
    "\n",
    "        # Metrics\n",
    "        acc = accuracy_score(y_test, preds)\n",
    "        report = classification_report(y_test, preds, output_dict=True)\n",
    "        f1 = report[\"macro avg\"][\"f1-score\"]\n",
    "\n",
    "        # Log parameters and metrics\n",
    "        mlflow.log_param(\"model\", model_name)\n",
    "        mlflow.log_param(\"vectorizer\", vectorizer_name)\n",
    "        mlflow.log_metric(\"accuracy\", acc)\n",
    "        mlflow.log_metric(\"f1_macro\", f1)\n",
    "\n",
    "        # Log model (with vectorizer if it's in a pipeline)\n",
    "        mlflow.sklearn.log_model(model, \"model\")\n",
    "\n",
    "        print(f\"Logged: {run_name} | Acc: {acc:.4f}, F1: {f1:.4f}\")\n"
   ]
  },
  {
   "cell_type": "code",
   "execution_count": 72,
   "id": "cd96a61f-74ed-4b4f-aaad-f03973cd4b2e",
   "metadata": {},
   "outputs": [
    {
     "name": "stderr",
     "output_type": "stream",
     "text": [
      "2025/06/20 23:51:27 WARNING mlflow.models.model: `artifact_path` is deprecated. Please use `name` instead.\n",
      "2025/06/20 23:51:47 WARNING mlflow.models.model: Model logged without a signature and input example. Please set `input_example` parameter when logging the model to auto infer the model signature.\n"
     ]
    },
    {
     "name": "stdout",
     "output_type": "stream",
     "text": [
      "Logged: LogisticRegression_TFIDF | Acc: 0.7411, F1: 0.6629\n"
     ]
    },
    {
     "name": "stderr",
     "output_type": "stream",
     "text": [
      "2025/06/20 23:55:03 WARNING mlflow.models.model: `artifact_path` is deprecated. Please use `name` instead.\n",
      "2025/06/20 23:55:14 WARNING mlflow.models.model: Model logged without a signature and input example. Please set `input_example` parameter when logging the model to auto infer the model signature.\n"
     ]
    },
    {
     "name": "stdout",
     "output_type": "stream",
     "text": [
      "Logged: RandomForest_TFIDF | Acc: 0.7043, F1: 0.4557\n"
     ]
    },
    {
     "name": "stderr",
     "output_type": "stream",
     "text": [
      "C:\\Users\\adars\\anaconda3\\Lib\\site-packages\\xgboost\\core.py:158: UserWarning: [23:55:15] WARNING: C:\\buildkite-agent\\builds\\buildkite-windows-cpu-autoscaling-group-i-0c55ff5f71b100e98-1\\xgboost\\xgboost-ci-windows\\src\\learner.cc:740: \n",
      "Parameters: { \"use_label_encoder\" } are not used.\n",
      "\n",
      "  warnings.warn(smsg, UserWarning)\n",
      "2025/06/20 23:55:46 WARNING mlflow.models.model: `artifact_path` is deprecated. Please use `name` instead.\n",
      "2025/06/20 23:55:55 WARNING mlflow.models.model: Model logged without a signature and input example. Please set `input_example` parameter when logging the model to auto infer the model signature.\n"
     ]
    },
    {
     "name": "stdout",
     "output_type": "stream",
     "text": [
      "Logged: XGBoost_TFIDF | Acc: 0.7468, F1: 0.6144\n"
     ]
    }
   ],
   "source": [
    "from sklearn.feature_extraction.text import TfidfVectorizer\n",
    "from sklearn.pipeline import Pipeline\n",
    "from sklearn.linear_model import LogisticRegression\n",
    "from sklearn.ensemble import RandomForestClassifier\n",
    "from xgboost import XGBClassifier\n",
    "\n",
    "vectorizer_tfidf = TfidfVectorizer()\n",
    "\n",
    "models = {\n",
    "    \"LogisticRegression\": LogisticRegression(max_iter=1000, class_weight=\"balanced\"),\n",
    "    \"RandomForest\": RandomForestClassifier(n_estimators=150, class_weight=\"balanced\"),\n",
    "    \"XGBoost\": XGBClassifier(use_label_encoder=False, eval_metric='mlogloss')\n",
    "}\n",
    "\n",
    "for model_name, clf in models.items():\n",
    "    pipeline = Pipeline([\n",
    "        ('tfidf', vectorizer_tfidf),\n",
    "        ('clf', clf)\n",
    "    ])\n",
    "    train_and_log_model(model_name, \"TFIDF\", pipeline, X_train, y_train, X_test, y_test)\n"
   ]
  },
  {
   "cell_type": "code",
   "execution_count": 78,
   "id": "78328cb3-ad80-4af2-bcff-3ad0461257aa",
   "metadata": {},
   "outputs": [
    {
     "name": "stderr",
     "output_type": "stream",
     "text": [
      "2025/06/21 00:02:50 WARNING mlflow.models.model: `artifact_path` is deprecated. Please use `name` instead.\n",
      "2025/06/21 00:02:58 WARNING mlflow.models.model: Model logged without a signature and input example. Please set `input_example` parameter when logging the model to auto infer the model signature.\n"
     ]
    },
    {
     "name": "stdout",
     "output_type": "stream",
     "text": [
      "Logged: LogisticRegression_BERT | Acc: 0.7561, F1: 0.6961\n"
     ]
    },
    {
     "name": "stderr",
     "output_type": "stream",
     "text": [
      "2025/06/21 00:07:05 WARNING mlflow.models.model: `artifact_path` is deprecated. Please use `name` instead.\n",
      "2025/06/21 00:07:15 WARNING mlflow.models.model: Model logged without a signature and input example. Please set `input_example` parameter when logging the model to auto infer the model signature.\n"
     ]
    },
    {
     "name": "stdout",
     "output_type": "stream",
     "text": [
      "Logged: RandomForest_BERT | Acc: 0.7604, F1: 0.6730\n"
     ]
    },
    {
     "name": "stderr",
     "output_type": "stream",
     "text": [
      "C:\\Users\\adars\\anaconda3\\Lib\\site-packages\\xgboost\\core.py:158: UserWarning: [00:07:17] WARNING: C:\\buildkite-agent\\builds\\buildkite-windows-cpu-autoscaling-group-i-0c55ff5f71b100e98-1\\xgboost\\xgboost-ci-windows\\src\\learner.cc:740: \n",
      "Parameters: { \"use_label_encoder\" } are not used.\n",
      "\n",
      "  warnings.warn(smsg, UserWarning)\n",
      "2025/06/21 00:07:57 WARNING mlflow.models.model: `artifact_path` is deprecated. Please use `name` instead.\n",
      "2025/06/21 00:08:06 WARNING mlflow.models.model: Model logged without a signature and input example. Please set `input_example` parameter when logging the model to auto infer the model signature.\n"
     ]
    },
    {
     "name": "stdout",
     "output_type": "stream",
     "text": [
      "Logged: XGBoost_BERT | Acc: 0.7683, F1: 0.6864\n"
     ]
    }
   ],
   "source": [
    "for model_name, clf in models.items():\n",
    "    train_and_log_model(model_name, \"BERT\", clf, X_train_resampled, y_train_resampled, X_test_vec2, y_test)"
   ]
  },
  {
   "cell_type": "code",
   "execution_count": 84,
   "id": "4e012ae9-899e-4594-8e35-38846018df46",
   "metadata": {},
   "outputs": [
    {
     "name": "stdout",
     "output_type": "stream",
     "text": [
      "Best Run ID: 72e48a655fe64b47a6de18b2ebcee32f\n",
      "Model: XGBoost\n",
      "Vectorizer: BERT\n",
      "Accuracy: 0.7683092839640621\n"
     ]
    }
   ],
   "source": [
    "from mlflow.tracking import MlflowClient\n",
    "\n",
    "client = MlflowClient()\n",
    "\n",
    "experiment = client.get_experiment_by_name(\"Sentiment-Analysis-Experiment\")\n",
    "\n",
    "runs = client.search_runs(\n",
    "    experiment_ids=[experiment.experiment_id],\n",
    "    order_by=[\"metrics.accuracy DESC\"],\n",
    "    max_results=1\n",
    ")\n",
    "\n",
    "best_run = runs[0]\n",
    "\n",
    "print(\"Best Run ID:\", best_run.info.run_id)\n",
    "print(\"Model:\", best_run.data.params[\"model\"])\n",
    "print(\"Vectorizer:\", best_run.data.params[\"vectorizer\"])\n",
    "print(\"Accuracy:\", best_run.data.metrics[\"accuracy\"])\n"
   ]
  },
  {
   "cell_type": "code",
   "execution_count": 86,
   "id": "2c924f7c-ec5a-4178-8667-b0d33bab1466",
   "metadata": {},
   "outputs": [
    {
     "name": "stderr",
     "output_type": "stream",
     "text": [
      "Successfully registered model 'SentimentClassifierBest'.\n",
      "2025/06/21 17:23:12 WARNING mlflow.tracking._model_registry.fluent: Run with id 72e48a655fe64b47a6de18b2ebcee32f has no artifacts at artifact path 'model', registering model based on models:/m-9e1897d864174f1b827b8cf232856162 instead\n",
      "Created version '1' of model 'SentimentClassifierBest'.\n"
     ]
    },
    {
     "data": {
      "text/plain": [
       "<ModelVersion: aliases=[], creation_timestamp=1750506792896, current_stage='None', deployment_job_state=None, description=None, last_updated_timestamp=1750506792896, metrics=[<Metric: dataset_digest=None, dataset_name=None, key='accuracy', model_id='m-9e1897d864174f1b827b8cf232856162', run_id='72e48a655fe64b47a6de18b2ebcee32f', step=0, timestamp=1750444677848, value=0.7683092839640621>,\n",
       " <Metric: dataset_digest=None, dataset_name=None, key='f1_macro', model_id='m-9e1897d864174f1b827b8cf232856162', run_id='72e48a655fe64b47a6de18b2ebcee32f', step=0, timestamp=1750444677905, value=0.6863545208506804>], model_id='m-9e1897d864174f1b827b8cf232856162', name='SentimentClassifierBest', params={'model': 'XGBoost', 'vectorizer': 'BERT'}, run_id='72e48a655fe64b47a6de18b2ebcee32f', run_link=None, source='models:/m-9e1897d864174f1b827b8cf232856162', status='READY', status_message=None, tags={}, user_id=None, version=1>"
      ]
     },
     "execution_count": 86,
     "metadata": {},
     "output_type": "execute_result"
    }
   ],
   "source": [
    "model_uri = f\"runs:/{best_run.info.run_id}/model\"\n",
    "registered_model_name = \"SentimentClassifierBest\"\n",
    "\n",
    "mlflow.register_model(\n",
    "    model_uri=model_uri,\n",
    "    name=registered_model_name\n",
    ")\n"
   ]
  },
  {
   "cell_type": "code",
   "execution_count": 88,
   "id": "05e9ec00-3cf4-422c-9613-5ceb83a4abb9",
   "metadata": {},
   "outputs": [],
   "source": [
    "from mlflow.sklearn import load_model\n",
    "\n",
    "# Load the best registered model (latest version)\n",
    "model = load_model(\"models:/SentimentClassifierBest/latest\")"
   ]
  },
  {
   "cell_type": "code",
   "execution_count": 90,
   "id": "a149ed21-46bc-4615-8414-7dd4306952d5",
   "metadata": {},
   "outputs": [
    {
     "name": "stdout",
     "output_type": "stream",
     "text": [
      "XGBClassifier(base_score=None, booster=None, callbacks=None,\n",
      "              colsample_bylevel=None, colsample_bynode=None,\n",
      "              colsample_bytree=None, device=None, early_stopping_rounds=None,\n",
      "              enable_categorical=False, eval_metric='mlogloss',\n",
      "              feature_types=None, gamma=None, grow_policy=None,\n",
      "              importance_type=None, interaction_constraints=None,\n",
      "              learning_rate=None, max_bin=None, max_cat_threshold=None,\n",
      "              max_cat_to_onehot=None, max_delta_step=None, max_depth=None,\n",
      "              max_leaves=None, min_child_weight=None, missing=nan,\n",
      "              monotone_constraints=None, multi_strategy=None, n_estimators=None,\n",
      "              n_jobs=None, num_parallel_tree=None, objective='multi:softprob', ...)\n"
     ]
    }
   ],
   "source": [
    "print(load_model(\"models:/SentimentClassifierBest/latest\"))"
   ]
  },
  {
   "cell_type": "code",
   "execution_count": 92,
   "id": "01ff5eda-d499-4164-b7a1-39f859cdba15",
   "metadata": {},
   "outputs": [
    {
     "name": "stdout",
     "output_type": "stream",
     "text": [
      "Model type: <class 'xgboost.sklearn.XGBClassifier'>\n",
      "❌ The model is NOT a Pipeline. You'll need to handle vectorizer and classifier separately.\n"
     ]
    }
   ],
   "source": [
    "from mlflow.sklearn import load_model\n",
    "from sklearn.pipeline import Pipeline\n",
    "\n",
    "# Load the model from MLflow\n",
    "model = load_model(\"models:/SentimentClassifierBest/latest\")\n",
    "\n",
    "# Check type\n",
    "print(\"Model type:\", type(model))\n",
    "\n",
    "# Check if it is a scikit-learn Pipeline\n",
    "if isinstance(model, Pipeline):\n",
    "    print(\"✅ The model is a scikit-learn Pipeline (includes vectorizer + classifier).\")\n",
    "else:\n",
    "    print(\"❌ The model is NOT a Pipeline. You'll need to handle vectorizer and classifier separately.\")\n"
   ]
  },
  {
   "cell_type": "code",
   "execution_count": 98,
   "id": "fcf9366f-9314-4261-bede-fb29af941b3a",
   "metadata": {},
   "outputs": [
    {
     "name": "stdout",
     "output_type": "stream",
     "text": [
      "Model exported successfully as 'model.pkl'\n"
     ]
    }
   ],
   "source": [
    "# Save the model as a .pkl file\n",
    "import joblib\n",
    "joblib.dump(model, \"best_sentiment_model.pkl\")\n",
    "\n",
    "print(\"Model exported successfully as 'model.pkl'\")"
   ]
  },
  {
   "cell_type": "code",
   "execution_count": 102,
   "id": "02e5587d-9494-49ff-a792-477f9e636a74",
   "metadata": {},
   "outputs": [],
   "source": [
    "from sentence_transformers import SentenceTransformer\n",
    "\n",
    "# Assuming this is your BERT embedder\n",
    "bert_model = SentenceTransformer(\"all-MiniLM-L6-v2\")\n",
    "\n",
    "# Save to a folder\n",
    "bert_model.save('encoder.pkl')"
   ]
  },
  {
   "cell_type": "code",
   "execution_count": 106,
   "id": "0c89d474-d461-466d-9c86-c7b611fca470",
   "metadata": {},
   "outputs": [
    {
     "data": {
      "text/plain": [
       "['tfidf_vectorizer.pkl']"
      ]
     },
     "execution_count": 106,
     "metadata": {},
     "output_type": "execute_result"
    }
   ],
   "source": [
    "joblib.dump(vectorizer_tfidf, \"tfidf_vectorizer.pkl\")"
   ]
  },
  {
   "cell_type": "code",
   "execution_count": null,
   "id": "b318bb57-a6e7-43d5-8d2d-4c844b55d9ec",
   "metadata": {},
   "outputs": [],
   "source": []
  }
 ],
 "metadata": {
  "kernelspec": {
   "display_name": "Python 3 (ipykernel)",
   "language": "python",
   "name": "python3"
  },
  "language_info": {
   "codemirror_mode": {
    "name": "ipython",
    "version": 3
   },
   "file_extension": ".py",
   "mimetype": "text/x-python",
   "name": "python",
   "nbconvert_exporter": "python",
   "pygments_lexer": "ipython3",
   "version": "3.12.7"
  }
 },
 "nbformat": 4,
 "nbformat_minor": 5
}
